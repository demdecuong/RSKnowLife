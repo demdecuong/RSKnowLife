{
 "cells": [
  {
   "cell_type": "code",
   "execution_count": 1,
   "metadata": {},
   "outputs": [
    {
     "name": "stdout",
     "output_type": "stream",
     "text": [
      "958 187788\n"
     ]
    }
   ],
   "source": [
    "import json\n",
    "\n",
    "with open('data/doctor.json','r') as f:\n",
    "    doctors = json.load(f)\n",
    "    \n",
    "patients = []\n",
    "with open('data/patient.json') as f:\n",
    "    for line in f:\n",
    "        patients.append(json.loads(line))\n",
    "\n",
    "print(len(doctors),len(patients))"
   ]
  },
  {
   "cell_type": "code",
   "execution_count": 28,
   "metadata": {},
   "outputs": [
    {
     "data": {
      "text/plain": [
       "{'resourceType': 'Patient',\n",
       " 'text': {'status': 'generated',\n",
       "  'div': '<div xmlns=\"http://www.w3.org/1999/xhtml\"><div class=\"hapiHeaderText\"/><table class=\"hapiPropertyTable\"><tbody><tr><td>Identifier</td><td>123456789123</td></tr><tr><td>Address</td><td><span>Cao Bằng </span></td></tr></tbody></table></div>'},\n",
       " 'extension': [{'url': 'http://vinbrain.net/Patient#YearOfBirth',\n",
       "   'valueInteger': 1968},\n",
       "  {'url': 'http://vinbrain.net/Patient#EducationLevel',\n",
       "   'valueString': 'PRIMARY_SCHOOL'},\n",
       "  {'url': 'http://vinbrain.net/Patient#Income',\n",
       "   'valueString': 'LESS_THAN_TWO'},\n",
       "  {'url': 'http://vinbrain.net/Patient#DiseaseDiagnosis',\n",
       "   'valueCodeableConcept': {'coding': [{'code': 'HYPERTENSION_FILTER_NEGATIVE'}]}},\n",
       "  {'url': 'http://vinbrain.net/Patient#DiseaseDiagnosis',\n",
       "   'valueCodeableConcept': {'coding': [{'code': 'DIABETES_FILTER_NEGATIVE'}]}},\n",
       "  {'url': 'http://vinbrain.net/Patient#DiseaseResult',\n",
       "   'valueCodeableConcept': {'coding': [{'code': 'HYPERTENSION_UNMEDICATED'}]}},\n",
       "  {'url': 'http://vinbrain.net/Patient#DiseaseResult',\n",
       "   'valueCodeableConcept': {'coding': [{'code': 'DIABETES_UNMEDICATED'}]}}],\n",
       " 'identifier': [{'value': '123456789123'}],\n",
       " 'name': [{'text': 'banmuitrieu'}],\n",
       " 'telecom': [{'value': '0968495330'}],\n",
       " 'gender': 'female',\n",
       " 'address': [{'text': 'Khuổi phay, Hoa Thám',\n",
       "   'city': 'Cao Bằng',\n",
       "   'district': 'Nguyên Bình'}]}"
      ]
     },
     "execution_count": 28,
     "metadata": {},
     "output_type": "execute_result"
    }
   ],
   "source": [
    "# print(patients[5]['telecom'][1]['value'])\n",
    "patients[122]"
   ]
  },
  {
   "cell_type": "code",
   "execution_count": 4,
   "metadata": {},
   "outputs": [
    {
     "data": {
      "text/plain": [
       "[{'text': 'Xóm Mỏ Sắt, Dân Chủ', 'city': 'Cao Bằng', 'district': 'Hoà An'}]"
      ]
     },
     "execution_count": 4,
     "metadata": {},
     "output_type": "execute_result"
    }
   ],
   "source": [
    "patients[1231]['address']"
   ]
  },
  {
   "cell_type": "markdown",
   "metadata": {},
   "source": [
    "## build csv data"
   ]
  },
  {
   "cell_type": "code",
   "execution_count": 5,
   "metadata": {},
   "outputs": [
    {
     "name": "stdout",
     "output_type": "stream",
     "text": [
      "0.03382005239951435\n",
      "0.09373868404796899\n",
      "0.8780166996826209\n",
      "0.9097705923701195\n"
     ]
    }
   ],
   "source": [
    "age = 0\n",
    "income = 0\n",
    "gender = 0\n",
    "address = 0\n",
    "\n",
    "for pa in patients:\n",
    "    try:\n",
    "        extension = pa['extension'] # list\n",
    "    except:\n",
    "        continue\n",
    "        \n",
    "    for item in extension:\n",
    "        if item['url'] == 'http://vinbrain.net/Patient#YearOfBirth':\n",
    "            age += 1\n",
    "        if item['url'] == 'http://vinbrain.net/Patient#Income':\n",
    "            income += 1\n",
    "    if 'gender' in list(pa.keys()):\n",
    "        gender +=1\n",
    "    if 'address' in list(pa.keys()):\n",
    "        address +=1 \n",
    "        \n",
    "print(age/len(patients)) # 0.03382005239951435\n",
    "print(income/len(patients)) # 0.09373868404796899\n",
    "print(gender/len(patients)) # 0.8780166996826209\n",
    "print(address/len(patients)) # 0.9097705923701195"
   ]
  },
  {
   "cell_type": "code",
   "execution_count": 7,
   "metadata": {},
   "outputs": [
    {
     "name": "stdout",
     "output_type": "stream",
     "text": [
      "187788\n",
      "6351 17603 164881 170844\n"
     ]
    }
   ],
   "source": [
    "print(len(patients))\n",
    "print(age,income,gender,address)"
   ]
  },
  {
   "cell_type": "code",
   "execution_count": 76,
   "metadata": {},
   "outputs": [],
   "source": [
    "def select_patient_income(pa):\n",
    "    try:\n",
    "        extension = pa['extension'] # list\n",
    "        for item in extension:\n",
    "            if item['url'] == 'http://vinbrain.net/Patient#Income':\n",
    "                return item['valueString']\n",
    "        return None\n",
    "    except:\n",
    "        return None\n",
    "            \n",
    "def select_patient_gender(pa):\n",
    "    if 'gender' in (pa.keys()):\n",
    "        return pa['gender']\n",
    "    return None\n",
    "\n",
    "def select_patient_age(pa):\n",
    "    try:\n",
    "        extension = pa['extension'] # list\n",
    "        for item in extension:\n",
    "            if item['url'] == 'http://vinbrain.net/Patient#YearOfBirth':\n",
    "                return item['valueInteger']\n",
    "        \n",
    "        if 'birthDate' in list(pa.keys()):\n",
    "            return pa['birthDate']\n",
    "        \n",
    "        return None\n",
    "    except:\n",
    "        return None\n",
    "\n",
    "def select_patient_address(pa):\n",
    "    if 'address' in list(pa.keys()):\n",
    "        return pa['address']\n",
    "    return None\n",
    "\n",
    "def select_patient_name(pa):\n",
    "    if 'name' in list(pa.keys()):\n",
    "        return pa['name'][0]['text']\n",
    "    return None"
   ]
  },
  {
   "cell_type": "code",
   "execution_count": 77,
   "metadata": {},
   "outputs": [],
   "source": [
    "def is_clean_patient_data(income,gender,age,address,name):\n",
    "    num_na = 0\n",
    "    if income == None:\n",
    "        num_na += 1\n",
    "    if gender == None:\n",
    "        num_na += 1\n",
    "    if age == None:\n",
    "        num_na += 1\n",
    "    if address == None:\n",
    "        num_na += 1\n",
    "    \n",
    "    if num_na == 4:\n",
    "        return False\n",
    "\n",
    "    return True"
   ]
  },
  {
   "cell_type": "code",
   "execution_count": 78,
   "metadata": {},
   "outputs": [],
   "source": [
    "from datetime import date\n",
    "\n",
    "def normalize_patient_age(age):\n",
    "    if age == None:\n",
    "        return None\n",
    "    if type(age) == int:\n",
    "        return age\n",
    "    \n",
    "    age = age.split('-')[0]\n",
    "    return age"
   ]
  },
  {
   "cell_type": "code",
   "execution_count": 79,
   "metadata": {},
   "outputs": [
    {
     "name": "stderr",
     "output_type": "stream",
     "text": [
      "187788it [00:00, 279926.65it/s]\n"
     ]
    },
    {
     "name": "stdout",
     "output_type": "stream",
     "text": [
      "187788\n",
      "170844\n"
     ]
    }
   ],
   "source": [
    "import pandas as pd\n",
    "from tqdm import tqdm\n",
    "\n",
    "PATIENT_ID = []\n",
    "PATIENT_INCOME = []\n",
    "PATIENT_GENDER = []\n",
    "PATIENT_AGE = []\n",
    "PATIENT_ADDRESS = []\n",
    "PATIENT_NAME = []\n",
    "\n",
    "for id,pa in tqdm(enumerate(patients)):\n",
    "    income = select_patient_income(pa)\n",
    "    gender = select_patient_gender(pa)\n",
    "    age = select_patient_age(pa)\n",
    "    age = normalize_patient_age(age)\n",
    "    address = select_patient_address(pa)\n",
    "    name = select_patient_name(pa)\n",
    "\n",
    "    if is_clean_patient_data(income,gender,age,address,name):\n",
    "        PATIENT_INCOME.append(income)\n",
    "        PATIENT_GENDER.append(gender)\n",
    "        PATIENT_AGE.append(age)\n",
    "        PATIENT_ADDRESS.append(address)\n",
    "        PATIENT_NAME.append(name)\n",
    "        PATIENT_ID.append(id)\n",
    "df = pd.DataFrame({\n",
    "    'id' : PATIENT_ID,\n",
    "    'income':PATIENT_INCOME,\n",
    "    'gender':PATIENT_GENDER,\n",
    "    'age':PATIENT_AGE,\n",
    "    'address':PATIENT_ADDRESS,\n",
    "    'name':PATIENT_NAME,\n",
    "})\n",
    "\n",
    "print(len(patients))\n",
    "df = df.dropna(how='all') # drop row where all fill are NA\n",
    "\n",
    "print(len(df))\n",
    "df.to_csv('patient_data.csv',\",\",index=False)"
   ]
  },
  {
   "cell_type": "code",
   "execution_count": 53,
   "metadata": {},
   "outputs": [
    {
     "data": {
      "text/plain": [
       "{'resourceType': 'Patient',\n",
       " 'text': {'status': 'generated',\n",
       "  'div': '<div xmlns=\"http://www.w3.org/1999/xhtml\"><div class=\"hapiHeaderText\"/><table class=\"hapiPropertyTable\"><tbody><tr><td>Identifier</td><td>97b33942-0196-4642-bd2d-de9a9e432b67</td></tr><tr><td>Address</td><td><span>Cao Bằng </span></td></tr></tbody></table></div>'},\n",
       " 'extension': [{'url': 'http://vinbrain.net/Patient#YearOfBirth',\n",
       "   'valueInteger': 1958},\n",
       "  {'url': 'http://vinbrain.net/Patient#EducationLevel',\n",
       "   'valueString': 'SECONDARY_SCHOOL'},\n",
       "  {'url': 'http://vinbrain.net/Patient#Income', 'valueString': 'TWO_TO_FOUR'},\n",
       "  {'url': 'http://vinbrain.net/Patient#DiseaseDiagnosis',\n",
       "   'valueCodeableConcept': {'coding': [{'code': 'HYPERTENSION_FILTER_NEGATIVE'}]}},\n",
       "  {'url': 'http://vinbrain.net/Patient#DiseaseDiagnosis',\n",
       "   'valueCodeableConcept': {'coding': [{'code': 'DIABETES_FILTER_NEGATIVE'}]}},\n",
       "  {'url': 'http://vinbrain.net/Patient#DiseaseResult',\n",
       "   'valueCodeableConcept': {'coding': [{'code': 'HYPERTENSION_UNMEDICATED'}]}},\n",
       "  {'url': 'http://vinbrain.net/Patient#DiseaseResult',\n",
       "   'valueCodeableConcept': {'coding': [{'code': 'DIABETES_UNMEDICATED'}]}}],\n",
       " 'identifier': [{'value': '97b33942-0196-4642-bd2d-de9a9e432b67'}],\n",
       " 'name': [{'text': 'NÀ TÚ'}],\n",
       " 'telecom': [{'value': '0912514723'}],\n",
       " 'gender': 'male',\n",
       " 'address': [{'text': 'Nà tú, Ngũ Lão',\n",
       "   'city': 'Cao Bằng',\n",
       "   'district': 'Hoà An'}]}"
      ]
     },
     "execution_count": 53,
     "metadata": {},
     "output_type": "execute_result"
    }
   ],
   "source": [
    "patients[45]"
   ]
  },
  {
   "cell_type": "code",
   "execution_count": 71,
   "metadata": {},
   "outputs": [
    {
     "data": {
      "text/plain": [
       "{'resourceType': 'Practitioner',\n",
       " 'extension': [{'url': 'http://vinbrain.net/Practitioner#FirebaseTokens',\n",
       "   'valueCodeableConcept': {'coding': [{'code': 'f1jd5XI2cKxCiOqsVfj8d0:APA91bHegb7CM_uE4F0G46fORE3GJ4K5VyDi66w1cZVsqJ3FmGUplw_K-oYX3zWmdQAp3AGlHU8zcH0SdKz8NSTljSzXfZq5gxrJxD-OdJ5lI6vuUybYZkXJvtez55L5P77CJGC5BD4g'},\n",
       "     {'code': 'cedwvFFB92uPZORTBa6sph:APA91bHtEXGLkODI-JpnAzdll99WMkf0pXsBPvoJL8Y3QPcov2G1ELUXODiT_TiEkj87Mbe1uHR8yqCD8r-eHVVChhq_ClC_ZF_pA6TY30bsr4iNKuW72I_nWKsyEk2ca6mSMBzd7lOw'},\n",
       "     {'code': 'cedwvFFB92uPZORTBa6sph:APA91bGJLXioNC4kzDwIHnNfctjH5SqPW3f02QyRfqB5l2ZzKKeohMpRgZ4Fmg2_K0Nj8p4jCQONno70fLCbCjM31TCu7X_qQb9LrUwuHCa44CZ0KESLK9khanPYpfMulNJxmRUWzF-D'},\n",
       "     {'code': 'cedwvFFB92uPZORTBa6sph:APA91bFN_UqWKjAI3KEUrD2e1exNekNUJ0Fyl5lKvCiXJySZLD2nj42bcsZsQBJM391eL87uExy7sxJtmiqTWQ8QEprYl2HSQqYHENEnUPIeHgT8kQBNBoW7wpUrFdsDoNHTx-NSpwKq'}]}},\n",
       "  {'url': 'http://vinbrain.net/Practitioner#Department',\n",
       "   'valueString': 'Doctor'},\n",
       "  {'url': 'http://vinbrain.net/Practitioner#Organization',\n",
       "   'valueString': 'Khu Phố 8'},\n",
       "  {'url': 'http://vinbrain.net/Practitioner#OrganizationCode',\n",
       "   'valueString': 'QUARTER274518'},\n",
       "  {'url': 'http://vinbrain.net/Practitioner#Favourite', 'valueBoolean': False},\n",
       "  {'url': 'http://vinbrain.net/Practitioner#Specialties',\n",
       "   'valueCodeableConcept': {'coding': [{'code': 'SP012'}]}},\n",
       "  {'url': 'http://vinbrain.net/Practitioner#Education',\n",
       "   'valueCodeableConcept': {'coding': [{'code': 'BSCKI'}]}},\n",
       "  {'url': 'http://vinbrain.net/Practitioner#Rating', 'valueDecimal': 4.0},\n",
       "  {'url': 'http://vinbrain.net/Practitioner#Reviewers', 'valueInteger': 10},\n",
       "  {'url': 'http://vinbrain.net/Practitioner#HourlyRate',\n",
       "   'valueDecimal': 300000.0}],\n",
       " 'identifier': [{'use': 'official',\n",
       "   'value': '8641bcce-9722-4f27-999a-37ceba0ae939',\n",
       "   'assigner': {'type': 'UserID'}}],\n",
       " 'active': True,\n",
       " 'name': [{'use': 'official', 'text': 'Admin Khu Phố 8'}],\n",
       " 'gender': 'male',\n",
       " 'birthDate': '1970-01-01'}"
      ]
     },
     "execution_count": 71,
     "metadata": {},
     "output_type": "execute_result"
    }
   ],
   "source": [
    "doctors[220]"
   ]
  },
  {
   "cell_type": "code",
   "execution_count": 73,
   "metadata": {},
   "outputs": [],
   "source": [
    "dept_keys = {\n",
    "    'SP001':'bác sĩ gia đình',\n",
    "    'SP002':'da liễu',\n",
    "    'SP003':'dinh dưỡng',\n",
    "    'SP004':'hô hấp',\n",
    "    'SP005':'nội thận',\n",
    "    'SP006':'nhi',\n",
    "    'SP007':'nội tiết',\n",
    "    'SP008':'nội tiêu hóa',\n",
    "    'SP009':'nội tổng quát',\n",
    "    'SP010':'tim mạch',\n",
    "    'SP011':'tâm thần',\n",
    "    'SP012':'thần kinh',\n",
    "    'SP013':'tuyến vú',\n",
    "    'SP014':'chẩn đoán hình ảnh',\n",
    "    'SP015':'chấn thương chỉnh hình',\n",
    "    'SP016':'nhiễm',\n",
    "    'SP017':'sản phụ khoa',\n",
    "    'SP018':'tai mũi họng',\n",
    "}"
   ]
  },
  {
   "cell_type": "code",
   "execution_count": 74,
   "metadata": {},
   "outputs": [],
   "source": [
    "def select_speciality(doctor):\n",
    "    try:\n",
    "        extension = pa['extension'] # list\n",
    "        for item in extension:\n",
    "            if item['url'] == 'http://vinbrain.net/Practitioner#Specialties':\n",
    "                return dept_keys[item['valueCodeableConcept']['coding'][0]['code']]\n",
    "        return None\n",
    "    except:\n",
    "        return None\n",
    "\n",
    "def select_title(doctor):\n",
    "    try:\n",
    "        extension = pa['extension'] # list\n",
    "        for item in extension:\n",
    "            if item['url'] == 'http://vinbrain.net/Practitioner#Education':\n",
    "                return item['valueCodeableConcept']['coding'][0]['code']\n",
    "        return None\n",
    "    except:\n",
    "        return None\n",
    "    \n",
    "def select_rating(doctor):\n",
    "    try:\n",
    "        extension = pa['extension'] # list\n",
    "        for item in extension:\n",
    "            if item['url'] == 'http://vinbrain.net/Practitioner#Rating':\n",
    "                return item['valueDecimal']\n",
    "        return None\n",
    "    except:\n",
    "        return None\n",
    "\n",
    "def select_reviewer(doctor):\n",
    "    try:\n",
    "        extension = pa['extension'] # list\n",
    "        for item in extension:\n",
    "            if item['url'] == 'http://vinbrain.net/Practitioner#Reviewers':\n",
    "                return item['valueInteger']\n",
    "        return None\n",
    "    except:\n",
    "        return None\n",
    "    \n",
    "def select_hourly_rate(doctor):\n",
    "    try:\n",
    "        extension = pa['extension'] # list\n",
    "        for item in extension:\n",
    "            if item['url'] == 'http://vinbrain.net/Practitioner#HourlyRate':\n",
    "                return item['valueDecimal']\n",
    "        return None\n",
    "    except:\n",
    "        return None\n",
    "\n",
    "def select_experience(doctor):\n",
    "    try:\n",
    "        extension = pa['extension'] # list\n",
    "        for item in extension:\n",
    "            if item['url'] == \"http://vinbrain.net/Practitioner#Experience\":\n",
    "                return item['valueString']\n",
    "        return None\n",
    "    except:\n",
    "        return None\n",
    "    "
   ]
  },
  {
   "cell_type": "code",
   "execution_count": 75,
   "metadata": {},
   "outputs": [
    {
     "name": "stderr",
     "output_type": "stream",
     "text": [
      "958it [00:00, 160571.58it/s]"
     ]
    },
    {
     "name": "stdout",
     "output_type": "stream",
     "text": [
      "958\n",
      "958\n"
     ]
    },
    {
     "name": "stderr",
     "output_type": "stream",
     "text": [
      "\n"
     ]
    }
   ],
   "source": [
    "'''\n",
    "- title\n",
    "- rating\n",
    "- hourly rate\n",
    "- experience # khong tim thay\n",
    "- review\n",
    "- age\n",
    "- gender\n",
    "'''\n",
    "\n",
    "DOCTOR_ID = []\n",
    "DOCTOR_TITLE = []\n",
    "DOCTOR_RATING = []\n",
    "DOCTOR_AGE = []\n",
    "DOCTOR_NAME = []\n",
    "DOCTOR_REVIWER = []\n",
    "DOCTOR_EXPERIENCE = []\n",
    "DOCTOR_HOURLY_RATE = []\n",
    "DOCTOR_GENDER = []\n",
    "DOCTOR_SPECIALITY = []\n",
    "\n",
    "for id,pa in tqdm(enumerate(doctors)):\n",
    "    gender = select_patient_gender(pa)\n",
    "    age = select_patient_age(pa)\n",
    "    age = normalize_patient_age(age)\n",
    "    name = select_patient_name(pa)\n",
    "    \n",
    "    speciality = select_speciality(pa)\n",
    "    title = select_title(pa)\n",
    "    rating = select_rating(pa)\n",
    "    review = select_reviewer(pa)\n",
    "    hourly_rate = select_hourly_rate(pa)\n",
    "    experience = select_experience(pa)\n",
    "    \n",
    "    DOCTOR_GENDER.append(gender)\n",
    "    DOCTOR_AGE.append(age)\n",
    "    DOCTOR_NAME.append(name)\n",
    "    DOCTOR_ID.append(id)\n",
    "\n",
    "    DOCTOR_SPECIALITY.append(speciality)\n",
    "    DOCTOR_REVIWER.append(review)\n",
    "    DOCTOR_HOURLY_RATE.append(hourly_rate)\n",
    "    DOCTOR_TITLE.append(title)\n",
    "    DOCTOR_EXPERIENCE.append(experience)\n",
    "    \n",
    "df = pd.DataFrame({\n",
    "    'id' : DOCTOR_ID,\n",
    "    'gender':DOCTOR_GENDER,\n",
    "    'age':DOCTOR_AGE,\n",
    "    'name':DOCTOR_NAME,\n",
    "    'title': DOCTOR_TITLE,\n",
    "    'speciality':DOCTOR_SPECIALITY,\n",
    "    'review':DOCTOR_REVIWER,\n",
    "    'hourly_rate':DOCTOR_HOURLY_RATE,\n",
    "    'experience':DOCTOR_EXPERIENCE\n",
    "})\n",
    "\n",
    "print(len(doctors))\n",
    "df = df.dropna(how='all') # drop row where all fill are NA\n",
    "\n",
    "print(len(df))\n",
    "df.to_csv('doctor_data.csv',\",\",index=False)"
   ]
  },
  {
   "cell_type": "markdown",
   "metadata": {},
   "source": [
    "## Stats user's email existence"
   ]
  },
  {
   "cell_type": "code",
   "execution_count": 27,
   "metadata": {},
   "outputs": [
    {
     "name": "stderr",
     "output_type": "stream",
     "text": [
      "100%|██████████| 187788/187788 [20:19<00:00, 153.94it/s]  \n"
     ]
    }
   ],
   "source": [
    "from validate_email_address import validate_email\n",
    "from tqdm import tqdm\n",
    "\n",
    "not_exists = 0\n",
    "total_email = 0\n",
    "for i, pa in tqdm(enumerate(patients)):\n",
    "    try:\n",
    "        email = pa['telecom'][1]['value']\n",
    "        total_email += 1\n",
    "    except:\n",
    "        continue\n",
    "        \n",
    "    try:\n",
    "        isExists = validate_email(email, verify=True)\n",
    "        if isExists == None:\n",
    "            not_exists += 1\n",
    "    except:\n",
    "        not_exists += 1\n",
    "        continue\n",
    "    \n",
    "    if i % 10000 == 0:\n",
    "        print('Not existed email',not_exists)\n",
    "        print('% not existed email',(not_exists/total_email))"
   ]
  },
  {
   "cell_type": "code",
   "execution_count": 28,
   "metadata": {},
   "outputs": [
    {
     "name": "stdout",
     "output_type": "stream",
     "text": [
      "Not existed email 137\n",
      "% not existed email 0.04537926465717125\n"
     ]
    }
   ],
   "source": [
    "print('Not existed email',not_exists)\n",
    "print('% not existed email',(not_exists/total_email))"
   ]
  },
  {
   "cell_type": "code",
   "execution_count": 29,
   "metadata": {},
   "outputs": [
    {
     "data": {
      "text/plain": [
       "3019"
      ]
     },
     "execution_count": 29,
     "metadata": {},
     "output_type": "execute_result"
    }
   ],
   "source": [
    "total_email"
   ]
  }
 ],
 "metadata": {
  "kernelspec": {
   "display_name": "Python 3",
   "language": "python",
   "name": "python3"
  },
  "language_info": {
   "codemirror_mode": {
    "name": "ipython",
    "version": 3
   },
   "file_extension": ".py",
   "mimetype": "text/x-python",
   "name": "python",
   "nbconvert_exporter": "python",
   "pygments_lexer": "ipython3",
   "version": "3.8.3"
  }
 },
 "nbformat": 4,
 "nbformat_minor": 4
}
